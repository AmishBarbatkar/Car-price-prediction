{
 "cells": [
  {
   "cell_type": "markdown",
   "id": "a058875d",
   "metadata": {},
   "source": [
    "### It contains data about all the main features that contribute to the price of a car. So let’s start this task by importing the necessary Python libraries and the dataset:"
   ]
  },
  {
   "cell_type": "code",
   "execution_count": 23,
   "id": "7fcde88d",
   "metadata": {},
   "outputs": [],
   "source": [
    "import numpy as np\n",
    "import pandas as pd\n",
    "import matplotlib.pyplot as plt\n",
    "import seaborn as sns"
   ]
  },
  {
   "cell_type": "code",
   "execution_count": 24,
   "id": "37d2e010",
   "metadata": {},
   "outputs": [],
   "source": [
    "import warnings\n",
    "warnings.filterwarnings('ignore')"
   ]
  },
  {
   "cell_type": "code",
   "execution_count": 25,
   "id": "8365f4b6",
   "metadata": {},
   "outputs": [
    {
     "data": {
      "text/html": [
       "<div>\n",
       "<style scoped>\n",
       "    .dataframe tbody tr th:only-of-type {\n",
       "        vertical-align: middle;\n",
       "    }\n",
       "\n",
       "    .dataframe tbody tr th {\n",
       "        vertical-align: top;\n",
       "    }\n",
       "\n",
       "    .dataframe thead th {\n",
       "        text-align: right;\n",
       "    }\n",
       "</style>\n",
       "<table border=\"1\" class=\"dataframe\">\n",
       "  <thead>\n",
       "    <tr style=\"text-align: right;\">\n",
       "      <th></th>\n",
       "      <th>Name</th>\n",
       "      <th>Year</th>\n",
       "      <th>Miles</th>\n",
       "      <th>Price</th>\n",
       "    </tr>\n",
       "  </thead>\n",
       "  <tbody>\n",
       "    <tr>\n",
       "      <th>0</th>\n",
       "      <td>Chevrolet Trax</td>\n",
       "      <td>2018</td>\n",
       "      <td>41946</td>\n",
       "      <td>16990</td>\n",
       "    </tr>\n",
       "    <tr>\n",
       "      <th>1</th>\n",
       "      <td>GMC Terrain</td>\n",
       "      <td>2020</td>\n",
       "      <td>45328</td>\n",
       "      <td>23990</td>\n",
       "    </tr>\n",
       "    <tr>\n",
       "      <th>2</th>\n",
       "      <td>Jeep Wrangler</td>\n",
       "      <td>2012</td>\n",
       "      <td>81068</td>\n",
       "      <td>21590</td>\n",
       "    </tr>\n",
       "    <tr>\n",
       "      <th>3</th>\n",
       "      <td>Jeep Renegade</td>\n",
       "      <td>2019</td>\n",
       "      <td>35372</td>\n",
       "      <td>21590</td>\n",
       "    </tr>\n",
       "    <tr>\n",
       "      <th>4</th>\n",
       "      <td>BMW X</td>\n",
       "      <td>20173</td>\n",
       "      <td>68992</td>\n",
       "      <td>22990</td>\n",
       "    </tr>\n",
       "  </tbody>\n",
       "</table>\n",
       "</div>"
      ],
      "text/plain": [
       "              Name   Year  Miles  Price\n",
       "0   Chevrolet Trax   2018  41946  16990\n",
       "1      GMC Terrain   2020  45328  23990\n",
       "2    Jeep Wrangler   2012  81068  21590\n",
       "3    Jeep Renegade   2019  35372  21590\n",
       "4            BMW X  20173  68992  22990"
      ]
     },
     "execution_count": 25,
     "metadata": {},
     "output_type": "execute_result"
    }
   ],
   "source": [
    "data = pd.read_csv(\"carvana.csv\")\n",
    "data.head()"
   ]
  },
  {
   "cell_type": "code",
   "execution_count": 26,
   "id": "af2af6fc",
   "metadata": {},
   "outputs": [
    {
     "name": "stdout",
     "output_type": "stream",
     "text": [
      "<class 'pandas.core.frame.DataFrame'>\n",
      "RangeIndex: 22000 entries, 0 to 21999\n",
      "Data columns (total 4 columns):\n",
      " #   Column  Non-Null Count  Dtype \n",
      "---  ------  --------------  ----- \n",
      " 0   Name    22000 non-null  object\n",
      " 1   Year    22000 non-null  int64 \n",
      " 2   Miles   22000 non-null  int64 \n",
      " 3   Price   22000 non-null  int64 \n",
      "dtypes: int64(3), object(1)\n",
      "memory usage: 687.6+ KB\n"
     ]
    }
   ],
   "source": [
    "data.info()"
   ]
  },
  {
   "cell_type": "code",
   "execution_count": 27,
   "id": "bb809b9d",
   "metadata": {},
   "outputs": [
    {
     "data": {
      "text/plain": [
       "(22000, 4)"
      ]
     },
     "execution_count": 27,
     "metadata": {},
     "output_type": "execute_result"
    }
   ],
   "source": [
    "data.shape"
   ]
  },
  {
   "cell_type": "code",
   "execution_count": 28,
   "id": "3c98e486",
   "metadata": {},
   "outputs": [
    {
     "data": {
      "text/plain": [
       "Name     0\n",
       "Year     0\n",
       "Miles    0\n",
       "Price    0\n",
       "dtype: int64"
      ]
     },
     "execution_count": 28,
     "metadata": {},
     "output_type": "execute_result"
    }
   ],
   "source": [
    "data.isnull().sum()"
   ]
  },
  {
   "cell_type": "code",
   "execution_count": 29,
   "id": "7687f6a4",
   "metadata": {},
   "outputs": [
    {
     "data": {
      "text/html": [
       "<div>\n",
       "<style scoped>\n",
       "    .dataframe tbody tr th:only-of-type {\n",
       "        vertical-align: middle;\n",
       "    }\n",
       "\n",
       "    .dataframe tbody tr th {\n",
       "        vertical-align: top;\n",
       "    }\n",
       "\n",
       "    .dataframe thead th {\n",
       "        text-align: right;\n",
       "    }\n",
       "</style>\n",
       "<table border=\"1\" class=\"dataframe\">\n",
       "  <thead>\n",
       "    <tr style=\"text-align: right;\">\n",
       "      <th></th>\n",
       "      <th>Year</th>\n",
       "      <th>Miles</th>\n",
       "      <th>Price</th>\n",
       "    </tr>\n",
       "  </thead>\n",
       "  <tbody>\n",
       "    <tr>\n",
       "      <th>count</th>\n",
       "      <td>2.200000e+04</td>\n",
       "      <td>22000.000000</td>\n",
       "      <td>22000.000000</td>\n",
       "    </tr>\n",
       "    <tr>\n",
       "      <th>mean</th>\n",
       "      <td>1.946648e+05</td>\n",
       "      <td>54445.697318</td>\n",
       "      <td>20707.285136</td>\n",
       "    </tr>\n",
       "    <tr>\n",
       "      <th>std</th>\n",
       "      <td>1.630370e+06</td>\n",
       "      <td>25685.933926</td>\n",
       "      <td>6535.580304</td>\n",
       "    </tr>\n",
       "    <tr>\n",
       "      <th>min</th>\n",
       "      <td>2.009000e+03</td>\n",
       "      <td>53.000000</td>\n",
       "      <td>10990.000000</td>\n",
       "    </tr>\n",
       "    <tr>\n",
       "      <th>25%</th>\n",
       "      <td>2.014000e+03</td>\n",
       "      <td>35512.000000</td>\n",
       "      <td>16590.000000</td>\n",
       "    </tr>\n",
       "    <tr>\n",
       "      <th>50%</th>\n",
       "      <td>2.017000e+03</td>\n",
       "      <td>51890.000000</td>\n",
       "      <td>19590.000000</td>\n",
       "    </tr>\n",
       "    <tr>\n",
       "      <th>75%</th>\n",
       "      <td>2.020000e+03</td>\n",
       "      <td>73191.000000</td>\n",
       "      <td>22990.000000</td>\n",
       "    </tr>\n",
       "    <tr>\n",
       "      <th>max</th>\n",
       "      <td>2.022350e+07</td>\n",
       "      <td>120167.000000</td>\n",
       "      <td>102990.000000</td>\n",
       "    </tr>\n",
       "  </tbody>\n",
       "</table>\n",
       "</div>"
      ],
      "text/plain": [
       "               Year          Miles          Price\n",
       "count  2.200000e+04   22000.000000   22000.000000\n",
       "mean   1.946648e+05   54445.697318   20707.285136\n",
       "std    1.630370e+06   25685.933926    6535.580304\n",
       "min    2.009000e+03      53.000000   10990.000000\n",
       "25%    2.014000e+03   35512.000000   16590.000000\n",
       "50%    2.017000e+03   51890.000000   19590.000000\n",
       "75%    2.020000e+03   73191.000000   22990.000000\n",
       "max    2.022350e+07  120167.000000  102990.000000"
      ]
     },
     "execution_count": 29,
     "metadata": {},
     "output_type": "execute_result"
    }
   ],
   "source": [
    "data.describe()"
   ]
  },
  {
   "cell_type": "code",
   "execution_count": 30,
   "id": "00d00cac",
   "metadata": {},
   "outputs": [
    {
     "data": {
      "text/plain": [
       "array([' Chevrolet Trax', ' GMC Terrain', ' Jeep Wrangler',\n",
       "       ' Jeep Renegade', ' BMW X', ' Buick Encore', ' Jeep Compass',\n",
       "       ' Jeep Patriot', ' Chrysler Sebring', ' Subaru Legacy',\n",
       "       ' Subaru XV Crosstrek', ' Mitsubishi Eclipse Cross',\n",
       "       ' Toyota Corolla', ' Nissan Pathfinder', ' Lincoln MKC',\n",
       "       ' Lexus ES', ' Dodge Grand Caravan Passenger', ' Ford Escape',\n",
       "       ' Mitsubishi Mirage G', ' Toyota C-HR', ' Toyota Yaris',\n",
       "       ' MAZDA CX-', ' Nissan Rogue Sport', ' Volkswagen Atlas',\n",
       "       ' MAZDA MAZDA', ' Nissan Sentra', ' Honda Civic', ' Nissan Rogue',\n",
       "       ' Toyota Corolla iM', ' Subaru Forester', ' Volkswagen Jetta',\n",
       "       ' FIAT ', ' Honda Accord', ' Hyundai Sonata', ' GMC Acadia',\n",
       "       ' Kia Optima', ' Hyundai Veloster', ' Hyundai Elantra',\n",
       "       ' FIAT  Spider', ' Honda Odyssey', ' Volkswagen Tiguan',\n",
       "       ' Acura RDX', ' Jeep Grand Cherokee', ' Chrysler Voyager',\n",
       "       ' Hyundai Accent', ' Honda CR-V', ' INFINITI QX',\n",
       "       ' Chevrolet Traverse', ' Mitsubishi Outlander Sport',\n",
       "       ' Hyundai Kona', ' Nissan Frontier King Cab', ' Chevrolet Spark',\n",
       "       ' Nissan Altima', ' Kia Soul', ' Ford Fusion', ' Ford Edge',\n",
       "       ' Chevrolet Sonic', ' Buick Enclave', ' Kia Forte', ' Scion tC',\n",
       "       ' Dodge Journey', ' Audi A Sportback e-tron',\n",
       "       ' Mitsubishi Outlander', ' Alfa Romeo Giulia', ' Chevrolet Cruze',\n",
       "       ' Nissan Kicks', ' Ford Fiesta', ' BMW  Series', ' Kia Sportage',\n",
       "       ' Ford Mustang', ' Volkswagen Passat', ' Lexus IS', ' Acura MDX',\n",
       "       ' Kia Cadenza', ' Hyundai Tucson', ' Toyota Camry',\n",
       "       ' Volkswagen Jetta SportWagen', ' MINI Hardtop  Door',\n",
       "       ' Cadillac CTS', ' Kia Sedona', ' Kia Rio', ' Ram  Regular Cab',\n",
       "       ' Chevrolet Impala', ' Chevrolet Equinox', ' Chrysler Pacifica',\n",
       "       ' Nissan Murano', ' Subaru Impreza', ' Chevrolet Volt',\n",
       "       ' MINI Coupe', ' Mercedes-Benz SLK-Class', ' Toyota Prius v',\n",
       "       ' Nissan Versa', ' FIAT  Abarth', ' Ford Explorer', ' Nissan LEAF',\n",
       "       ' Jeep Cherokee', ' FIAT X', ' Ford EcoSport', ' MINI Convertible',\n",
       "       ' Dodge Avenger', ' Chevrolet Camaro', ' Volkswagen Beetle',\n",
       "       ' Buick LaCrosse', ' Ford Focus', ' Volvo S', ' Toyota Yaris iA',\n",
       "       ' Honda Fit', ' Toyota Sienna', ' Toyota Prius', ' Chrysler ',\n",
       "       ' Nissan Maxima', ' Nissan JUKE', ' Ford F Super Cab',\n",
       "       ' Chevrolet Malibu', ' Toyota Prius c',\n",
       "       ' Volkswagen Tiguan Limited', ' Kia Optima Hybrid',\n",
       "       ' MAZDA MX- Miata', ' Honda HR-V', ' Kia Sorento',\n",
       "       ' Chevrolet Cruze Limited', ' Mercedes-Benz GLA', ' Toyota Avalon',\n",
       "       ' Dodge Charger', ' Scion FR-S', ' Chevrolet Captiva Sport',\n",
       "       ' Chevrolet Trailblazer', ' Honda CR-Z', ' BMW i', ' Acura TLX',\n",
       "       ' Kia Niro', ' Acura RLX', ' Nissan Rogue Select',\n",
       "       ' Nissan Frontier Crew Cab', ' Mercedes-Benz C-Class', ' Lexus GS',\n",
       "       ' Ford Taurus', ' MAZDA Tribute', ' Chrysler Town & Country',\n",
       "       ' Ford Flex', ' Toyota RAV', ' MINI Countryman', ' Honda Pilot',\n",
       "       ' INFINITI Q', ' Chevrolet Blazer', ' INFINITI EX', ' Dodge Dart',\n",
       "       ' MINI Clubman', ' Lexus RX', ' Toyota Tacoma Double Cab',\n",
       "       ' Hyundai Venue', ' Subaru Outback', ' Jeep Gladiator',\n",
       "       ' MINI Hardtop', ' Mitsubishi Mirage', ' Lexus GX', ' Kia Seltos',\n",
       "       ' Cadillac XT', ' Hyundai Santa Fe Sport', ' Cadillac ATS',\n",
       "       ' Toyota Runner', ' Subaru Crosstrek', ' INFINITI G', ' FIAT L',\n",
       "       ' Nissan Z', ' Volkswagen Golf SportWagen', ' Volkswagen Golf',\n",
       "       ' Mercedes-Benz E-Class', ' Volvo C', ' Kia Soul EV',\n",
       "       ' Cadillac SRX', ' smart fortwo', ' Acura ILX',\n",
       "       ' Toyota Camry Hybrid', ' Volkswagen Touareg', ' Scion iQ',\n",
       "       ' Lincoln MKX', ' MINI Roadster', ' Buick Verano',\n",
       "       ' Mercedes-Benz CLA-Class', ' Toyota Highlander', ' Kia K',\n",
       "       ' Lincoln MKZ', ' Chevrolet Colorado Extended Cab',\n",
       "       ' Buick Envision', ' Acura TSX', ' GMC Yukon',\n",
       "       ' Mercedes-Benz M-Class', ' Volkswagen Golf GTI', ' Audi Q',\n",
       "       ' Acura TL', ' Lexus CT', ' Mercedes-Benz CLA', ' Buick Cascada',\n",
       "       ' Scion xD', ' MINI Paceman', ' Hyundai Ioniq Hybrid',\n",
       "       ' Mercedes-Benz GLC', ' Chevrolet Colorado Crew Cab',\n",
       "       ' Ford F SuperCrew Cab', ' Ford Bronco Sport', ' Ford Expedition',\n",
       "       ' Chevrolet Silverado  Crew Cab', ' Chevrolet Suburban',\n",
       "       ' Nissan Armada', ' Scion iM', ' Land Rover Range Rover Evoque',\n",
       "       ' Lincoln MKS', ' Lexus LC', ' Land Rover LR', ' Hyundai Genesis',\n",
       "       ' Toyota Sequoia', ' INFINITI M', ' Land Rover Range Rover Velar',\n",
       "       ' Chevrolet Impala Limited', ' Chevrolet Spark EV',\n",
       "       ' Chevrolet Silverado  Double Cab', ' Buick Regal', ' Audi A',\n",
       "       ' Kia Telluride', ' Mercedes-Benz SL-Class', ' Dodge Durango',\n",
       "       ' Mercedes-Benz GLE', ' Honda Insight', ' Toyota Venza',\n",
       "       ' Toyota Tundra Double Cab', ' smart fortwo electric drive',\n",
       "       ' Buick Encore GX', ' Volvo XC', ' Mitsubishi i-MiEV',\n",
       "       ' Ford Fusion Energi', ' Toyota Tacoma Access Cab',\n",
       "       ' Subaru Ascent', ' Hyundai Santa Fe', ' Jeep Wrangler Unlimited',\n",
       "       ' Volkswagen Routan', ' Volkswagen Eos', ' Audi S',\n",
       "       ' GMC Acadia Limited', ' Hyundai Elantra GT',\n",
       "       ' Mercedes-Benz CLK-Class', ' GMC Yukon XL ',\n",
       "       ' Hyundai Sonata Hybrid', ' Ford Expedition MAX',\n",
       "       ' Dodge Challenger', ' Honda Crosstour',\n",
       "       ' Land Rover Range Rover Sport', ' Subaru WRX',\n",
       "       ' Ford C-MAX Energi', ' Volkswagen e-Golf', ' Volkswagen CC',\n",
       "       ' Volvo V', ' Ford Mustang MACH-E', ' Mercedes-Benz A-Class',\n",
       "       ' Volkswagen GTI', ' Ram  Crew Cab', ' Lexus HS',\n",
       "       ' Nissan Versa Note', ' Lincoln Town Car', ' Cadillac XTS',\n",
       "       ' MAZDA MX- Miata RF', ' Chevrolet Tahoe', ' Kia Forte Koup',\n",
       "       ' Scion xB', ' BMW M', ' Toyota GR', ' Tesla Model Y',\n",
       "       ' Volkswagen ID.', ' Nissan Xterra', ' Mercedes-Benz GLK-Class',\n",
       "       ' Toyota Prius Plug-in Hybrid', ' Lexus NX', ' Hyundai Azera',\n",
       "       ' Scion iA', ' Chevrolet Corvette', ' Hyundai IONIQ ',\n",
       "       ' Tesla Model ', ' Kia Carnival', ' Mercedes-Benz CLS-Class',\n",
       "       ' Tesla Model S', ' Tesla Model X', ' Jaguar F-TYPE',\n",
       "       ' Nissan Titan Crew Cab', ' Jaguar XF', ' Polestar ', ' Audi TT',\n",
       "       ' Porsche ', ' Ford Ranger SuperCrew', ' Lexus RC',\n",
       "       ' Honda Ridgeline', ' Ford F Regular Cab', ' Toyota RAV Hybrid',\n",
       "       ' Toyota Tundra CrewMax', ' GMC Sierra  Double Cab',\n",
       "       ' Kia Sorento Plug-in Hybrid', ' Ram  Quad Cab',\n",
       "       ' Kia Sorento Hybrid', ' Honda Clarity Plug-in Hybrid',\n",
       "       ' Ford Bronco', ' Honda Accord Hybrid', ' Porsche Boxster',\n",
       "       ' Porsche Macan', ' Toyota GR Supra', ' Toyota Prius Prime',\n",
       "       ' Toyota Corolla Cross', ' Genesis G', ' Mercedes-Benz SL',\n",
       "       ' Jaguar XE', ' Lincoln Corsair', ' GMC Sierra  Crew Cab',\n",
       "       ' Mercedes-Benz Mercedes-AMG GLE Coupe', ' Maserati Levante',\n",
       "       ' Cadillac CT', ' Land Rover Discovery', ' Ram  Classic Quad Cab',\n",
       "       ' Chevrolet Silverado  HD Crew Cab', ' Land Rover Discovery Sport',\n",
       "       ' Maserati Ghibli', ' Volkswagen Atlas Cross Sport',\n",
       "       ' Kia Stinger', ' BMW Z', ' Toyota FJ Cruiser',\n",
       "       ' Toyota Corolla Hatchback', ' Audi e-tron',\n",
       "       ' GMC Canyon Crew Cab', ' Chevrolet Silverado  HD Regular Cab',\n",
       "       ' Porsche  Cayman', ' Hyundai Palisade', ' Hyundai Santa Cruz',\n",
       "       ' Jaguar E-PACE', ' Toyota Corolla Hybrid',\n",
       "       ' Chevrolet Silverado  Limited Crew Cab', ' Cadillac ELR',\n",
       "       ' Hyundai Tucson Hybrid', ' Alfa Romeo C Spider',\n",
       "       ' Acura MDX Sport Hybrid', ' Honda CR-V Hybrid', ' Jaguar XJ',\n",
       "       ' Alfa Romeo Stelvio', ' Honda Passport', ' Kia EV',\n",
       "       ' Porsche Cayenne', ' Lincoln Nautilus', ' Jaguar F-PACE',\n",
       "       ' Ford Maverick', ' Mercedes-Benz S-Class', ' Lincoln Navigator',\n",
       "       ' Mitsubishi Outlander PHEV',\n",
       "       ' Mercedes-Benz Mercedes-AMG C-Class', ' Ram  Classic Crew Cab',\n",
       "       ' Toyota ', ' Mercedes-Benz GLB', ' Mercedes-Benz GLS',\n",
       "       ' Maserati Quattroporte', ' Jeep Wagoneer', ' Mercedes-Benz SLC',\n",
       "       ' Kia Niro EV', ' Jeep Grand Cherokee L',\n",
       "       ' Mercedes-Benz GLA-Class', ' GMC Sierra  Limited Crew Cab',\n",
       "       ' Mercedes-Benz Mercedes-AMG SLC', ' Honda Civic Type R',\n",
       "       ' Ford Transit Connect Passenger Wagon',\n",
       "       ' Toyota Tundra Hybrid CrewMax', ' Ford Transit  Wagon',\n",
       "       ' Lexus UX', ' Jeep Liberty', ' Porsche Panamera',\n",
       "       ' Land Rover Range Rover', ' Maserati GranTurismo',\n",
       "       ' Volkswagen Jetta GLI', ' Nissan TITAN XD Crew Cab',\n",
       "       ' Ford Expedition EL', ' Toyota Highlander Hybrid',\n",
       "       ' Ford F Lightning', ' Mercedes-Benz Mercedes-AMG GLC',\n",
       "       ' Hyundai Genesis Coupe', ' Chevrolet Bolt EV',\n",
       "       ' Cadillac Escalade ESV', ' Honda Accord Crosstour',\n",
       "       ' Nissan Quest', ' Ford Transit Connect Passenger',\n",
       "       ' Mitsubishi Lancer', ' Hyundai Veracruz', ' Pontiac Solstice',\n",
       "       ' Buick Lucerne', ' Ford Focus ST', ' Mercedes-Benz B-Class',\n",
       "       ' Subaru BRZ', ' INFINITI FX', ' Hyundai Sonata Plug-in Hybrid',\n",
       "       ' GMC Sierra  Regular Cab', ' Chevrolet Suburban ',\n",
       "       ' Hyundai Ioniq Plug-in Hybrid', ' Hyundai Equus', ' GMC Yukon XL',\n",
       "       ' Buick Regal Sportback', ' Chevrolet City Express',\n",
       "       ' smart fortwo electric drive cabrio', ' INFINITI JX',\n",
       "       ' Chevrolet Silverado  Regular Cab', ' Volkswagen Golf Alltrack',\n",
       "       ' Volkswagen New Beetle', ' Toyota Matrix',\n",
       "       ' Chevrolet Malibu Limited', ' FIAT c Abarth',\n",
       "       ' Ram  Classic Regular Cab', ' Audi allroad', ' Cadillac DTS',\n",
       "       ' Toyota Yaris Hatchback', ' Saturn SKY', ' Ford C-MAX Hybrid',\n",
       "       ' Mercedes-Benz R-Class', ' Lexus LS', ' Hyundai Ioniq Electric',\n",
       "       'Kia Sorento'], dtype=object)"
      ]
     },
     "execution_count": 30,
     "metadata": {},
     "output_type": "execute_result"
    }
   ],
   "source": [
    "data['Name'].unique()"
   ]
  },
  {
   "cell_type": "markdown",
   "id": "40282fcc",
   "metadata": {},
   "source": [
    "#### The price column in this dataset is supposed to be the column whose values we need to predict. So let’s see the distribution of the values of the price column"
   ]
  },
  {
   "cell_type": "code",
   "execution_count": 31,
   "id": "e315eb42",
   "metadata": {},
   "outputs": [
    {
     "data": {
      "image/png": "[encoded data removed]",
      "text/plain": [
       "<Figure size 1500x1000 with 1 Axes>"
      ]
     },
     "metadata": {},
     "output_type": "display_data"
    }
   ],
   "source": [
    "sns.set_style(\"whitegrid\")\n",
    "plt.figure(figsize=(15, 10))\n",
    "sns.distplot(data.Price)\n",
    "plt.show()"
   ]
  },
  {
   "cell_type": "markdown",
   "id": "a8c5c0be",
   "metadata": {},
   "source": [
    "### Now let’s have a look at the correlation among all the features of this dataset:"
   ]
  },
  {
   "cell_type": "code",
   "execution_count": 34,
   "id": "df9684c9",
   "metadata": {},
   "outputs": [
    {
     "data": {
      "text/html": [
       "<div>\n",
       "<style scoped>\n",
       "    .dataframe tbody tr th:only-of-type {\n",
       "        vertical-align: middle;\n",
       "    }\n",
       "\n",
       "    .dataframe tbody tr th {\n",
       "        vertical-align: top;\n",
       "    }\n",
       "\n",
       "    .dataframe thead th {\n",
       "        text-align: right;\n",
       "    }\n",
       "</style>\n",
       "<table border=\"1\" class=\"dataframe\">\n",
       "  <thead>\n",
       "    <tr style=\"text-align: right;\">\n",
       "      <th></th>\n",
       "      <th>Year</th>\n",
       "      <th>Miles</th>\n",
       "      <th>Price</th>\n",
       "    </tr>\n",
       "  </thead>\n",
       "  <tbody>\n",
       "    <tr>\n",
       "      <th>Year</th>\n",
       "      <td>1.000000</td>\n",
       "      <td>-0.028941</td>\n",
       "      <td>0.141570</td>\n",
       "    </tr>\n",
       "    <tr>\n",
       "      <th>Miles</th>\n",
       "      <td>-0.028941</td>\n",
       "      <td>1.000000</td>\n",
       "      <td>-0.474124</td>\n",
       "    </tr>\n",
       "    <tr>\n",
       "      <th>Price</th>\n",
       "      <td>0.141570</td>\n",
       "      <td>-0.474124</td>\n",
       "      <td>1.000000</td>\n",
       "    </tr>\n",
       "  </tbody>\n",
       "</table>\n",
       "</div>"
      ],
      "text/plain": [
       "           Year     Miles     Price\n",
       "Year   1.000000 -0.028941  0.141570\n",
       "Miles -0.028941  1.000000 -0.474124\n",
       "Price  0.141570 -0.474124  1.000000"
      ]
     },
     "execution_count": 34,
     "metadata": {},
     "output_type": "execute_result"
    }
   ],
   "source": [
    "data.corr()"
   ]
  },
  {
   "cell_type": "code",
   "execution_count": 35,
   "id": "7d421f0a",
   "metadata": {},
   "outputs": [
    {
     "data": {
      "image/png": "[encoded data removed]",
      "text/plain": [
       "<Figure size 2000x1500 with 2 Axes>"
      ]
     },
     "metadata": {},
     "output_type": "display_data"
    }
   ],
   "source": [
    "plt.figure(figsize=(20, 15))\n",
    "correlations = data.corr()\n",
    "sns.heatmap(correlations, cmap=\"coolwarm\", annot=True)\n",
    "plt.show()"
   ]
  },
  {
   "cell_type": "markdown",
   "id": "e1c1bcf8",
   "metadata": {},
   "source": [
    "#### I will use the decision tree regression algorithm to train a car price prediction model. So let’s split the data into training and test sets and use the decision tree regression algorithm to train the model:\n",
    "\n"
   ]
  },
  {
   "cell_type": "code",
   "execution_count": 39,
   "id": "d69d9eaf",
   "metadata": {},
   "outputs": [],
   "source": [
    "x=data[['Year','Miles']]\n",
    "y=data['Price']"
   ]
  },
  {
   "cell_type": "code",
   "execution_count": 40,
   "id": "6de5677d",
   "metadata": {},
   "outputs": [],
   "source": [
    "from sklearn.model_selection import train_test_split\n",
    "xtrain, xtest, ytrain, ytest = train_test_split(x, y, test_size=0.2,random_state=3)"
   ]
  },
  {
   "cell_type": "code",
   "execution_count": 43,
   "id": "a9e6dcbe",
   "metadata": {},
   "outputs": [],
   "source": [
    "from sklearn.tree import DecisionTreeRegressor\n",
    "model = DecisionTreeRegressor()\n",
    "model.fit(xtrain, ytrain)\n",
    "predictions = model.predict(xtest)"
   ]
  },
  {
   "cell_type": "code",
   "execution_count": 44,
   "id": "f756f1a0",
   "metadata": {},
   "outputs": [
    {
     "data": {
      "text/plain": [
       "1.0"
      ]
     },
     "execution_count": 44,
     "metadata": {},
     "output_type": "execute_result"
    }
   ],
   "source": [
    "from sklearn.metrics import mean_absolute_error\n",
    "model.score(xtest, predictions)"
   ]
  },
  {
   "cell_type": "markdown",
   "id": "8ab1995e",
   "metadata": {},
   "source": [
    "### The model gives 100% accuracy on the test set, which is excellent."
   ]
  },
  {
   "cell_type": "code",
   "execution_count": null,
   "id": "130870b9",
   "metadata": {},
   "outputs": [],
   "source": []
  },
  {
   "cell_type": "code",
   "execution_count": null,
   "id": "86bb39f4",
   "metadata": {},
   "outputs": [],
   "source": []
  }
 ],
 "metadata": {
  "kernelspec": {
   "display_name": "Python 3 (ipykernel)",
   "language": "python",
   "name": "python3"
  },
  "language_info": {
   "codemirror_mode": {
    "name": "ipython",
    "version": 3
   },
   "file_extension": ".py",
   "mimetype": "text/x-python",
   "name": "python",
   "nbconvert_exporter": "python",
   "pygments_lexer": "ipython3",
   "version": "3.11.0"
  }
 },
 "nbformat": 4,
 "nbformat_minor": 5
}
